{
 "cells": [
  {
   "cell_type": "markdown",
   "metadata": {},
   "source": [
    "# Athena audits: demo and state results\n",
    "Show usage of the Audit class and demo on 2016 presidential contest in selected states"
   ]
  },
  {
   "cell_type": "markdown",
   "metadata": {},
   "source": [
    "## Setup and define some utilities"
   ]
  },
  {
   "cell_type": "code",
   "execution_count": 1,
   "metadata": {},
   "outputs": [],
   "source": [
    "from athena.audit import Audit\n",
    "import math\n",
    "import json\n",
    "import sys"
   ]
  },
  {
   "cell_type": "code",
   "execution_count": 2,
   "metadata": {},
   "outputs": [],
   "source": [
    "def make_audit(audit_type, alpha, delta, candidates, results, ballots_cast, winners, name, model, pstop_goal, round_schedule):\n",
    "    \"Convenience function to mak Audit class with given election parameters\"\n",
    "\n",
    "    election = {\n",
    "        \"alpha\": alpha,\n",
    "        \"delta\": delta,\n",
    "        \"candidates\": candidates,\n",
    "        \"results\": results,\n",
    "        \"ballots_cast\": ballots_cast,\n",
    "        \"winners\": winners,\n",
    "        \"name\": name,\n",
    "        \"model\": model,\n",
    "        \"pstop_goal\": pstop_goal,\n",
    "        \"round_schedule\": round_schedule,\n",
    "    }\n",
    "    a = Audit(audit_type, election['alpha'], election['delta'])\n",
    "    a.add_election(election)\n",
    "    return a"
   ]
  },
  {
   "cell_type": "code",
   "execution_count": 3,
   "metadata": {},
   "outputs": [],
   "source": [
    "def find_next_round_size(audit_type, alpha, delta, candidates, results, ballots_cast, winners, name, model, pstop_goal, round_schedule):\n",
    "    \"Convenience function to call Audit class with given election parameters\"\n",
    "\n",
    "    election = {\n",
    "        \"alpha\": alpha,\n",
    "        \"delta\": delta,\n",
    "        \"candidates\": candidates,\n",
    "        \"results\": results,\n",
    "        \"ballots_cast\": ballots_cast,\n",
    "        \"winners\": winners,\n",
    "        \"name\": name,\n",
    "        \"model\": model,\n",
    "        \"pstop_goal\": pstop_goal,\n",
    "        \"round_schedule\": round_schedule,\n",
    "    }\n",
    "    a = Audit(audit_type, election['alpha'], election['delta'])\n",
    "    a.add_election(election)\n",
    "    x = a.find_next_round_size(election['pstop_goal'])\n",
    "    return x"
   ]
  },
  {
   "cell_type": "code",
   "execution_count": 4,
   "metadata": {},
   "outputs": [],
   "source": [
    "def sample90(margin, audit_type=\"ATHENA\"):\n",
    "    \"Return sample size and other output given margin\"\n",
    "\n",
    "    assert 0.0 < margin < 1.0\n",
    "    ballots_cast = 10000\n",
    "    margin_votes = round(margin * ballots_cast)\n",
    "    b = ballots_cast//2 - margin_votes // 2\n",
    "    a = b + int(margin_votes)\n",
    "    x = find_next_round_size(audit_type, 0.1, 1.0, [\"A\", \"B\"], [a, b], ballots_cast, 1, \"state\", \"bin\", [0.9], [])\n",
    "    return (x['detailed']['A-B']['next_round_sizes'][0], x)"
   ]
  },
  {
   "cell_type": "code",
   "execution_count": 5,
   "metadata": {},
   "outputs": [],
   "source": [
    "def sample90v(a, b, ballots_cast, audit_type=\"ATHENA\"):\n",
    "    \"Return sample size etc. given votes for each of top two candidates in 1-winner contest\"\n",
    "\n",
    "    winner = max(a,b)\n",
    "    loser = min(a,b)\n",
    "    assert 0 < loser < winner < ballots_cast\n",
    "    x = find_next_round_size(audit_type, 0.1, 1.0, [\"A\", \"B\"], [winner, loser], ballots_cast, 1, \"state\", \"bin\", [0.9], [])\n",
    "    return (x['detailed']['A-B']['next_round_sizes'][0], x)"
   ]
  },
  {
   "cell_type": "code",
   "execution_count": 6,
   "metadata": {},
   "outputs": [],
   "source": [
    "# Define a class to avoid cluttering notebook with stdout\n",
    "class redirect_output(object):\n",
    "    \"\"\"context manager for reditrecting stdout/err to files\"\"\"\n",
    "\n",
    "\n",
    "    def __init__(self, stdout='', stderr=''):\n",
    "        self.stdout = stdout\n",
    "        self.stderr = stderr\n",
    "\n",
    "    def __enter__(self):\n",
    "        self.sys_stdout = sys.stdout\n",
    "        self.sys_stderr = sys.stderr\n",
    "\n",
    "        if self.stdout:\n",
    "            sys.stdout = open(self.stdout, 'w')\n",
    "        if self.stderr:\n",
    "            if self.stderr == self.stdout:\n",
    "                sys.stderr = sys.stdout\n",
    "            else:\n",
    "                sys.stderr = open(self.stderr, 'w')\n",
    "\n",
    "    def __exit__(self, exc_type, exc_value, traceback):\n",
    "        sys.stdout = self.sys_stdout\n",
    "        sys.stderr = self.sys_stderr"
   ]
  },
  {
   "cell_type": "markdown",
   "metadata": {},
   "source": [
    "# Basic demo of Audit class"
   ]
  },
  {
   "cell_type": "code",
   "execution_count": 27,
   "metadata": {},
   "outputs": [],
   "source": [
    "audit_type = \"ATHENA\"\n",
    "alpha = 0.1\n",
    "delta = 1.0\n",
    "candidates = [\"A\", \"B\"]\n",
    "results = [600, 300]\n",
    "ballots_cast = 1000\n",
    "winners = 1\n",
    "name = \"test_election\"\n",
    "model = \"bin\"\n",
    "pstop_goal = [.5, .7, .9]\n",
    "round_schedule = []"
   ]
  },
  {
   "cell_type": "code",
   "execution_count": 8,
   "metadata": {},
   "outputs": [],
   "source": [
    "a = make_audit(audit_type, alpha, delta, candidates, results, ballots_cast, winners, name, model, pstop_goal, round_schedule)"
   ]
  },
  {
   "cell_type": "code",
   "execution_count": 29,
   "metadata": {},
   "outputs": [
    {
     "name": "stdout",
     "output_type": "stream",
     "text": [
      "setting round schedule\n",
      "\n",
      "\n",
      "A (600) vs B (300)\n",
      "\tmargin:\t0.3333333333333333\n",
      "\tpstop goals: [0.5, 0.7, 0.9]\n",
      "\tscaled round schedule: [45]\n",
      "\t\t0.5:\t[50, 89]\t0.9084557253241831\n",
      "\t\t0.7:\t[50, 106]\t0.9472890714209767\n",
      "\t\t0.9:\t[50, 146]\t0.9819758295831421\n"
     ]
    }
   ],
   "source": [
    "x = a.find_next_round_size(pstop_goal)"
   ]
  },
  {
   "cell_type": "code",
   "execution_count": 30,
   "metadata": {},
   "outputs": [
    {
     "data": {
      "text/plain": [
       "{'detailed': {'A-B': {'pstop_goal': [0.5, 0.7, 0.9],\n",
       "   'next_round_sizes': [89, 106, 146],\n",
       "   'prob_stop': [0.9084557253241831, 0.9472890714209767, 0.9819758295831421]}},\n",
       " 'future_round_sizes': [89, 106, 146]}"
      ]
     },
     "execution_count": 30,
     "metadata": {},
     "output_type": "execute_result"
    }
   ],
   "source": [
    "x"
   ]
  },
  {
   "cell_type": "code",
   "execution_count": 31,
   "metadata": {},
   "outputs": [],
   "source": [
    "sample_size = x['future_round_sizes'][0]"
   ]
  },
  {
   "cell_type": "code",
   "execution_count": 32,
   "metadata": {},
   "outputs": [],
   "source": [
    "a.add_round_schedule([sample_size])"
   ]
  },
  {
   "cell_type": "code",
   "execution_count": 34,
   "metadata": {
    "scrolled": true
   },
   "outputs": [
    {
     "data": {
      "text/plain": [
       "[89]"
      ]
     },
     "execution_count": 34,
     "metadata": {},
     "output_type": "execute_result"
    }
   ],
   "source": [
    "a.round_schedule"
   ]
  },
  {
   "cell_type": "code",
   "execution_count": 60,
   "metadata": {},
   "outputs": [
    {
     "name": "stdout",
     "output_type": "stream",
     "text": [
      "\n",
      "\n",
      "A (600) vs B (300)\n",
      "\tmargin:\t0.3333333333333333\n",
      "{'kmins': [47], 'prob_sum': [0.9455433229072786], 'prob_tied_sum': [0.07281772720149406], 'deltas': [0.868742219891089]}\n",
      "find_kmins_for_risk\n",
      "{'kmins': [44], 'passed': 0}\n",
      "\n",
      "\tAUDIT result:\n",
      "\t\tobserved:\t[44]\n",
      "\t\trequired:\t[47]\n",
      "\n",
      "\t\tTest FAILED\n",
      "\n",
      "Delta:\t\t267.17895490806717\n",
      "AUDIT risk:\t0.5840284862127536\n"
     ]
    }
   ],
   "source": [
    "r = a.find_risk([sample_size // 2])"
   ]
  },
  {
   "cell_type": "code",
   "execution_count": 61,
   "metadata": {},
   "outputs": [
    {
     "data": {
      "text/plain": [
       "{'risk': 0.5840284862127536,\n",
       " 'delta': 267.17895490806717,\n",
       " 'passed': 0,\n",
       " 'observed': [44],\n",
       " 'required': [47]}"
      ]
     },
     "execution_count": 61,
     "metadata": {},
     "output_type": "execute_result"
    }
   ],
   "source": [
    "r"
   ]
  },
  {
   "cell_type": "code",
   "execution_count": 41,
   "metadata": {},
   "outputs": [
    {
     "data": {
      "text/plain": [
       "133"
      ]
     },
     "execution_count": 41,
     "metadata": {},
     "output_type": "execute_result"
    }
   ],
   "source": [
    "3 * sample_size // 2"
   ]
  },
  {
   "cell_type": "code",
   "execution_count": 42,
   "metadata": {},
   "outputs": [
    {
     "data": {
      "text/plain": [
       "89"
      ]
     },
     "execution_count": 42,
     "metadata": {},
     "output_type": "execute_result"
    }
   ],
   "source": [
    "sample_size"
   ]
  },
  {
   "cell_type": "code",
   "execution_count": 53,
   "metadata": {
    "scrolled": true
   },
   "outputs": [
    {
     "data": {
      "text/plain": [
       "[(0, 1.0000000000000067),\n",
       " (10, 1.0000000000000056),\n",
       " (20, 0.9999999752125589),\n",
       " (30, 0.9993323688712253),\n",
       " (40, 0.8554588180094498),\n",
       " (50, 0.14673318555641768),\n",
       " (60, 0.0013623133744939024),\n",
       " (70, 2.676254170296155e-06),\n",
       " (80, 3.426742231597338e-09)]"
      ]
     },
     "execution_count": 53,
     "metadata": {},
     "output_type": "execute_result"
    }
   ],
   "source": [
    "with redirect_output(\"/dev/null\"):\n",
    "    out = [(w, a.find_risk([w])['risk']) for w in range(0, sample_size, 10)]\n",
    "out"
   ]
  },
  {
   "cell_type": "code",
   "execution_count": 56,
   "metadata": {},
   "outputs": [
    {
     "name": "stdout",
     "output_type": "stream",
     "text": [
      "\n",
      "\n",
      "A (600) vs B (300)\n",
      "\tmargin:\t0.3333333333333333\n",
      "{'kmins': [47], 'prob_sum': [0.9455433229072786], 'prob_tied_sum': [0.07281772720149406], 'deltas': [0.868742219891089]}\n",
      "find_kmins_for_risk\n",
      "{'kmins': [89], 'passed': 1}\n",
      "\n",
      "\tAUDIT result:\n",
      "\t\tobserved:\t[89]\n",
      "\t\trequired:\t[47]\n",
      "\n",
      "\t\tTest passed\n",
      "\n",
      "Delta:\t\t7.593682622316245e-12\n",
      "AUDIT risk:\t7.593682622316245e-12\n"
     ]
    }
   ],
   "source": [
    "r = a.find_risk([sample_size])"
   ]
  },
  {
   "cell_type": "code",
   "execution_count": 13,
   "metadata": {},
   "outputs": [
    {
     "data": {
      "text/plain": [
       "{'risk': 0.11591596559800159,\n",
       " 'delta': 0.5938312972095313,\n",
       " 'passed': 1,\n",
       " 'observed': [30],\n",
       " 'required': [28]}"
      ]
     },
     "execution_count": 13,
     "metadata": {},
     "output_type": "execute_result"
    }
   ],
   "source": [
    "r"
   ]
  },
  {
   "cell_type": "code",
   "execution_count": 62,
   "metadata": {},
   "outputs": [
    {
     "name": "stdout",
     "output_type": "stream",
     "text": [
      "setting round schedule\n",
      "\n",
      "\n",
      "A (600) vs B (300)\n",
      "\tmargin:\t0.3333333333333333\n",
      "\tpstop goals: [0.5, 0.7, 0.9]\n",
      "\tscaled round schedule: []\n",
      "\t\t0.5:\t[34]\t0.5847595987710061\n",
      "\t\t0.7:\t[48]\t0.7610118463711638\n",
      "\t\t0.9:\t[74]\t0.9227167435192974\n"
     ]
    }
   ],
   "source": [
    "x = find_next_round_size(audit_type, alpha, delta, candidates, results, ballots_cast, winners, name, model, pstop_goal, round_schedule)"
   ]
  },
  {
   "cell_type": "code",
   "execution_count": 63,
   "metadata": {
    "scrolled": true
   },
   "outputs": [
    {
     "data": {
      "text/plain": [
       "{'detailed': {'A-B': {'pstop_goal': [0.5, 0.7, 0.9],\n",
       "   'next_round_sizes': [34, 48, 74],\n",
       "   'prob_stop': [0.5847595987710061, 0.7610118463711638, 0.9227167435192974]}},\n",
       " 'future_round_sizes': [34, 48, 74]}"
      ]
     },
     "execution_count": 63,
     "metadata": {},
     "output_type": "execute_result"
    }
   ],
   "source": [
    "x"
   ]
  },
  {
   "cell_type": "code",
   "execution_count": 76,
   "metadata": {},
   "outputs": [],
   "source": [
    "round_schedule = a.round_schedule"
   ]
  },
  {
   "cell_type": "code",
   "execution_count": 77,
   "metadata": {},
   "outputs": [
    {
     "data": {
      "text/plain": [
       "[89]"
      ]
     },
     "execution_count": 77,
     "metadata": {},
     "output_type": "execute_result"
    }
   ],
   "source": [
    "round_schedule"
   ]
  },
  {
   "cell_type": "code",
   "execution_count": 87,
   "metadata": {},
   "outputs": [
    {
     "data": {
      "text/plain": [
       "[89]"
      ]
     },
     "execution_count": 87,
     "metadata": {},
     "output_type": "execute_result"
    }
   ],
   "source": [
    "a.round_schedule"
   ]
  },
  {
   "cell_type": "code",
   "execution_count": 88,
   "metadata": {},
   "outputs": [],
   "source": [
    "a.add_round_schedule(round_schedule)"
   ]
  },
  {
   "cell_type": "code",
   "execution_count": 89,
   "metadata": {},
   "outputs": [
    {
     "data": {
      "text/plain": [
       "[89]"
      ]
     },
     "execution_count": 89,
     "metadata": {},
     "output_type": "execute_result"
    }
   ],
   "source": [
    "a.round_schedule"
   ]
  },
  {
   "cell_type": "code",
   "execution_count": 90,
   "metadata": {},
   "outputs": [
    {
     "name": "stdout",
     "output_type": "stream",
     "text": [
      "setting round schedule\n",
      "\n",
      "\n",
      "A (600) vs B (300)\n",
      "\tmargin:\t0.3333333333333333\n",
      "\tpstop goals: [0.5, 0.7, 0.9]\n",
      "\tscaled round schedule: [80]\n",
      "FULL RECOUNT is suggested!\n",
      "Probability of stopping at: [80, 180] is 0.8755596079882674\n",
      "\t\t0.5:\t[89, 145]\t0.9760422310736788\n",
      "\t\t0.7:\t[89, 167]\t0.9862358931179325\n",
      "\t\t0.9:\t[89, 200]\t0.8755596079882674\n"
     ]
    }
   ],
   "source": [
    "x = a.find_next_round_size(pstop_goal)"
   ]
  },
  {
   "cell_type": "code",
   "execution_count": 91,
   "metadata": {},
   "outputs": [
    {
     "data": {
      "text/plain": [
       "{'detailed': {'A-B': {'pstop_goal': [0.5, 0.7, 0.9],\n",
       "   'next_round_sizes': [145, 167, 200],\n",
       "   'prob_stop': [0.9760422310736788, 0.9862358931179325, 0.8755596079882674]}},\n",
       " 'future_round_sizes': [145, 167, 200]}"
      ]
     },
     "execution_count": 91,
     "metadata": {},
     "output_type": "execute_result"
    }
   ],
   "source": [
    "x"
   ]
  },
  {
   "cell_type": "code",
   "execution_count": 80,
   "metadata": {},
   "outputs": [
    {
     "data": {
      "text/plain": [
       "{'detailed': {'A-B': {'pstop_goal': [0.5, 0.7, 0.9],\n",
       "   'next_round_sizes': [34, 48, 74],\n",
       "   'prob_stop': [0.5847595987710061, 0.7610118463711638, 0.9227167435192974]}},\n",
       " 'future_round_sizes': [34, 48, 74]}"
      ]
     },
     "execution_count": 80,
     "metadata": {},
     "output_type": "execute_result"
    }
   ],
   "source": [
    "x"
   ]
  },
  {
   "cell_type": "code",
   "execution_count": 92,
   "metadata": {},
   "outputs": [],
   "source": [
    "below_kmin = max(r['required']) - max(r['observed'])"
   ]
  },
  {
   "cell_type": "code",
   "execution_count": 93,
   "metadata": {},
   "outputs": [
    {
     "data": {
      "text/plain": [
       "(47, 44)"
      ]
     },
     "execution_count": 93,
     "metadata": {},
     "output_type": "execute_result"
    }
   ],
   "source": [
    "(max(r['required']), max(r['observed']))"
   ]
  },
  {
   "cell_type": "code",
   "execution_count": 94,
   "metadata": {},
   "outputs": [],
   "source": [
    "future_round_sizes = x['future_round_sizes']"
   ]
  },
  {
   "cell_type": "code",
   "execution_count": 95,
   "metadata": {},
   "outputs": [
    {
     "data": {
      "text/plain": [
       "3"
      ]
     },
     "execution_count": 95,
     "metadata": {},
     "output_type": "execute_result"
    }
   ],
   "source": [
    "below_kmin"
   ]
  },
  {
   "cell_type": "code",
   "execution_count": 96,
   "metadata": {},
   "outputs": [
    {
     "data": {
      "text/plain": [
       "[145, 167, 200]"
      ]
     },
     "execution_count": 96,
     "metadata": {},
     "output_type": "execute_result"
    }
   ],
   "source": [
    "future_round_sizes"
   ]
  },
  {
   "cell_type": "code",
   "execution_count": 97,
   "metadata": {},
   "outputs": [
    {
     "data": {
      "text/plain": [
       "[62, 84, 117]"
      ]
     },
     "execution_count": 97,
     "metadata": {},
     "output_type": "execute_result"
    }
   ],
   "source": [
    "list(map(lambda x: x - max(round_schedule) + 2 * below_kmin, future_round_sizes))"
   ]
  },
  {
   "cell_type": "markdown",
   "metadata": {},
   "source": [
    "# Try to reproduce R2B2/Athena vs BRAVO\n",
    "Sample Sizes for 90% probability of ending a Ballot Polling Audit of 2016 statewide Presidential contest\n",
    "\n",
    "with risk limit 0.1, larger margins\n"
   ]
  },
  {
   "cell_type": "code",
   "execution_count": 16,
   "metadata": {},
   "outputs": [],
   "source": [
    "# Read in data from 2016\n",
    "election_2016 = json.load(open('data/2016_election.json'))"
   ]
  },
  {
   "cell_type": "code",
   "execution_count": 17,
   "metadata": {
    "scrolled": false
   },
   "outputs": [
    {
     "data": {
      "text/plain": [
       "{'contests': {'presidential': {'winners': 1,\n",
       "   'candidates': ['Clinton', 'Trump'],\n",
       "   'results': [729547, 1318255],\n",
       "   'ballots_cast': 2123372,\n",
       "   'state_id': 1,\n",
       "   'margin': -0.2874828718792149}}}"
      ]
     },
     "execution_count": 17,
     "metadata": {},
     "output_type": "execute_result"
    }
   ],
   "source": [
    "election_2016['Alabama']"
   ]
  },
  {
   "cell_type": "code",
   "execution_count": 18,
   "metadata": {},
   "outputs": [],
   "source": [
    "def sample_state(state):\n",
    "    \"Return sample information for given state from 2016\"\n",
    "\n",
    "    election = election_2016[state]\n",
    "    candidates = election['contests']['presidential']['candidates']\n",
    "    results = election['contests']['presidential']['results']\n",
    "    ballots_cast = election['contests']['presidential']['ballots_cast']\n",
    "    athena_sample = sample90v(results[0], results[1], ballots_cast)\n",
    "    return athena_sample"
   ]
  },
  {
   "cell_type": "code",
   "execution_count": 19,
   "metadata": {},
   "outputs": [],
   "source": [
    "states = ['Alabama', 'Maryland', 'New York', 'Rhode Island', 'New Jersey', 'Ohio', 'Virginia',\n",
    "          'Georgia', 'North Carolina', 'Arizona', 'Nevada' ]\n",
    "# skip 'Minnesota', 'Florida', 'Wisconsin', 'Pennsylvania', 'Michigan']"
   ]
  },
  {
   "cell_type": "code",
   "execution_count": 20,
   "metadata": {},
   "outputs": [],
   "source": [
    "athena_results = {}\n",
    "with redirect_output(\"debug_output.txt\"):\n",
    "  for state in states:\n",
    "    athena_results[state] = sample_state(state)"
   ]
  },
  {
   "cell_type": "code",
   "execution_count": 21,
   "metadata": {},
   "outputs": [
    {
     "data": {
      "text/plain": [
       "{'Alabama': 94,\n",
       " 'Maryland': 98,\n",
       " 'New York': 140,\n",
       " 'Rhode Island': 280,\n",
       " 'New Jersey': 350,\n",
       " 'Ohio': 1018,\n",
       " 'Virginia': 2329,\n",
       " 'Georgia': 2567,\n",
       " 'North Carolina': 4964,\n",
       " 'Arizona': 5150,\n",
       " 'Nevada': 10675}"
      ]
     },
     "execution_count": 21,
     "metadata": {},
     "output_type": "execute_result"
    }
   ],
   "source": [
    "{s: r[0]  for s, r in athena_results.items()}"
   ]
  },
  {
   "cell_type": "markdown",
   "metadata": {},
   "source": [
    "# Misc snippets of code"
   ]
  },
  {
   "cell_type": "code",
   "execution_count": 22,
   "metadata": {},
   "outputs": [],
   "source": [
    "with redirect_output(\"my_output.txt\"):\n",
    "    x = sample_state('Alabama')"
   ]
  },
  {
   "cell_type": "code",
   "execution_count": 23,
   "metadata": {
    "scrolled": true
   },
   "outputs": [
    {
     "data": {
      "text/plain": [
       "(94,\n",
       " {'detailed': {'A-B': {'pstop_goal': [0.9],\n",
       "    'next_round_sizes': [94],\n",
       "    'prob_stop': [0.9204297020802105]}},\n",
       "  'future_round_sizes': [94]})"
      ]
     },
     "execution_count": 23,
     "metadata": {},
     "output_type": "execute_result"
    }
   ],
   "source": [
    "x"
   ]
  },
  {
   "cell_type": "code",
   "execution_count": 24,
   "metadata": {},
   "outputs": [
    {
     "name": "stdout",
     "output_type": "stream",
     "text": [
      "setting round schedule\n",
      "\n",
      "\n",
      "A (600) vs B (300)\n",
      "\tmargin:\t0.3333333333333333\n",
      "\tpstop goals: [0.7, 0.8, 0.9]\n",
      "\tscaled round schedule: []\n",
      "\t\t0.7:\t[48]\t0.7610118463711638\n",
      "\t\t0.8:\t[55]\t0.8317821224884329\n",
      "\t\t0.9:\t[74]\t0.9227167435192974\n",
      "\n",
      "\n",
      "A (600) vs C (100)\n",
      "\tmargin:\t0.7142857142857143\n",
      "\tpstop goals: [0.7, 0.8, 0.9]\n",
      "\tscaled round schedule: []\n",
      "\t\t0.7:\t[15]\t0.8383950694384561\n",
      "\t\t0.8:\t[15]\t0.8383950694384561\n",
      "\t\t0.9:\t[20]\t0.961167305496754\n"
     ]
    }
   ],
   "source": [
    "e3 = find_next_round_size(audit_type, alpha, delta, [\"A\", \"B\", \"C\"], [600, 300, 100], ballots_cast, winners, name, model, pstop_goal, round_schedule)"
   ]
  },
  {
   "cell_type": "code",
   "execution_count": 25,
   "metadata": {},
   "outputs": [
    {
     "data": {
      "text/plain": [
       "{'detailed': {'A-B': {'pstop_goal': [0.7, 0.8, 0.9],\n",
       "   'next_round_sizes': [48, 55, 74],\n",
       "   'prob_stop': [0.7610118463711638, 0.8317821224884329, 0.9227167435192974]},\n",
       "  'A-C': {'pstop_goal': [0.7, 0.8, 0.9],\n",
       "   'next_round_sizes': [15, 15, 20],\n",
       "   'prob_stop': [0.8383950694384561, 0.8383950694384561, 0.961167305496754]}},\n",
       " 'future_round_sizes': [48, 55, 74]}"
      ]
     },
     "execution_count": 25,
     "metadata": {},
     "output_type": "execute_result"
    }
   ],
   "source": [
    "e3"
   ]
  },
  {
   "cell_type": "code",
   "execution_count": 26,
   "metadata": {},
   "outputs": [],
   "source": [
    "election = {\n",
    "    \"alpha\": alpha,\n",
    "    \"delta\": delta,\n",
    "    \"candidates\": candidates,\n",
    "    \"results\": results,\n",
    "    \"ballots_cast\": ballots_cast,\n",
    "    \"winners\": winners,\n",
    "    \"name\": name,\n",
    "    \"model\": model,\n",
    "    \"pstop\": pstop_goal,\n",
    "    \"round_schedule\": round_schedule,\n",
    "    }"
   ]
  }
 ],
 "metadata": {
  "kernelspec": {
   "display_name": "Python 3",
   "language": "python",
   "name": "python3"
  },
  "language_info": {
   "codemirror_mode": {
    "name": "ipython",
    "version": 3
   },
   "file_extension": ".py",
   "mimetype": "text/x-python",
   "name": "python",
   "nbconvert_exporter": "python",
   "pygments_lexer": "ipython3",
   "version": "3.7.4"
  },
  "toc": {
   "colors": {
    "hover_highlight": "#DAA520",
    "running_highlight": "#FF0000",
    "selected_highlight": "#FFD700"
   },
   "moveMenuLeft": true,
   "nav_menu": {
    "height": "117px",
    "width": "252px"
   },
   "navigate_menu": true,
   "number_sections": true,
   "sideBar": true,
   "threshold": 4,
   "toc_cell": false,
   "toc_section_display": "block",
   "toc_window_display": false,
   "widenNotebook": false
  }
 },
 "nbformat": 4,
 "nbformat_minor": 2
}
