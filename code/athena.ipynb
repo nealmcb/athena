{
 "cells": [
  {
   "cell_type": "markdown",
   "metadata": {},
   "source": [
    "# Athena audits: demo and state results\n",
    "Work out test cases for multi-round audits.\n",
    "\n",
    "Show usage of the Audit class.\n",
    "\n",
    "Demo 2016 presidential contest in selected states"
   ]
  },
  {
   "cell_type": "markdown",
   "metadata": {},
   "source": [
    "## Setup and define some utilities"
   ]
  },
  {
   "cell_type": "code",
   "execution_count": 1,
   "metadata": {},
   "outputs": [],
   "source": [
    "from athena.audit import Audit\n",
    "import math\n",
    "import json\n",
    "import sys"
   ]
  },
  {
   "cell_type": "code",
   "execution_count": 2,
   "metadata": {},
   "outputs": [],
   "source": [
    "# Run this any time for fast turnaround of changes to the library \n",
    "from importlib import reload\n",
    "import athena.audit\n",
    "reload(athena.audit)\n",
    "from athena.audit import Audit"
   ]
  },
  {
   "cell_type": "code",
   "execution_count": 3,
   "metadata": {},
   "outputs": [],
   "source": [
    "def make_audit(audit_type, alpha, delta, candidates, results, ballots_cast, winners, name, model, pstop_goal, round_schedule):\n",
    "    \"Convenience function to make Audit instance with given election parameters\"\n",
    "\n",
    "    election = {\n",
    "        \"alpha\": alpha,\n",
    "        \"delta\": delta,\n",
    "        \"candidates\": candidates,\n",
    "        \"results\": results,\n",
    "        \"ballots_cast\": ballots_cast,\n",
    "        \"winners\": winners,\n",
    "        \"name\": name,\n",
    "        \"model\": model,\n",
    "        \"pstop_goal\": pstop_goal,\n",
    "    }\n",
    "    a = Audit(audit_type, election['alpha'], election['delta'])\n",
    "    a.add_election(election)\n",
    "    a.add_round_schedule(round_schedule)\n",
    "    return a"
   ]
  },
  {
   "cell_type": "code",
   "execution_count": 4,
   "metadata": {},
   "outputs": [],
   "source": [
    "def find_next_round_size(audit_type, alpha, delta, candidates, results, ballots_cast, winners, name, model, pstop_goal, round_schedule):\n",
    "    \"Convenience function to call a fresh Audit instance with given election parameters\"\n",
    "\n",
    "    election = {\n",
    "        \"alpha\": alpha,\n",
    "        \"delta\": delta,\n",
    "        \"candidates\": candidates,\n",
    "        \"results\": results,\n",
    "        \"ballots_cast\": ballots_cast,\n",
    "        \"winners\": winners,\n",
    "        \"name\": name,\n",
    "        \"model\": model,\n",
    "        \"pstop_goal\": pstop_goal,\n",
    "    }\n",
    "    a = Audit(audit_type, election['alpha'], election['delta'])\n",
    "    a.add_election(election)\n",
    "    a.add_round_schedule(round_schedule)\n",
    "    x = a.find_next_round_size(election['pstop_goal'])\n",
    "    return x"
   ]
  },
  {
   "cell_type": "code",
   "execution_count": 5,
   "metadata": {},
   "outputs": [],
   "source": [
    "def sample90(margin, audit_type=\"ATHENA\"):\n",
    "    \"Return sample size and other output given margin\"\n",
    "\n",
    "    assert 0.0 < margin < 1.0\n",
    "    ballots_cast = 10000\n",
    "    margin_votes = round(margin * ballots_cast)\n",
    "    b = ballots_cast//2 - margin_votes // 2\n",
    "    a = b + int(margin_votes)\n",
    "    x = find_next_round_size(audit_type, 0.1, 1.0, [\"A\", \"B\"], [a, b], ballots_cast, 1, \"state\", \"bin\", [0.9], [])\n",
    "    return (x['detailed']['A-B']['next_round_sizes'][0], x)"
   ]
  },
  {
   "cell_type": "code",
   "execution_count": 6,
   "metadata": {},
   "outputs": [],
   "source": [
    "def sample90v(a, b, ballots_cast, audit_type=\"ATHENA\"):\n",
    "    \"Return sample size etc. given votes for each of top two candidates in 1-winner contest\"\n",
    "\n",
    "    winner = max(a,b)\n",
    "    loser = min(a,b)\n",
    "    assert 0 < loser < winner < ballots_cast\n",
    "    x = find_next_round_size(audit_type, 0.1, 1.0, [\"A\", \"B\"], [winner, loser], ballots_cast, 1, \"state\", \"bin\", [0.9], [])\n",
    "    return (x['detailed']['A-B']['next_round_sizes'][0], x)"
   ]
  },
  {
   "cell_type": "code",
   "execution_count": 7,
   "metadata": {},
   "outputs": [],
   "source": [
    "# Define a class to avoid cluttering notebook with stdout\n",
    "class redirect_output(object):\n",
    "    \"\"\"context manager for reditrecting stdout/err to files\"\"\"\n",
    "\n",
    "\n",
    "    def __init__(self, stdout='', stderr=''):\n",
    "        self.stdout = stdout\n",
    "        self.stderr = stderr\n",
    "\n",
    "    def __enter__(self):\n",
    "        self.sys_stdout = sys.stdout\n",
    "        self.sys_stderr = sys.stderr\n",
    "\n",
    "        if self.stdout:\n",
    "            sys.stdout = open(self.stdout, 'w')\n",
    "        if self.stderr:\n",
    "            if self.stderr == self.stdout:\n",
    "                sys.stderr = sys.stdout\n",
    "            else:\n",
    "                sys.stderr = open(self.stderr, 'w')\n",
    "\n",
    "    def __exit__(self, exc_type, exc_value, traceback):\n",
    "        sys.stdout = self.sys_stdout\n",
    "        sys.stderr = self.sys_stderr"
   ]
  },
  {
   "cell_type": "code",
   "execution_count": 8,
   "metadata": {},
   "outputs": [],
   "source": [
    "# Print all the current properties and values of an object\n",
    "# From https://stackoverflow.com/a/59128615/507544\n",
    "from pprint import pprint\n",
    "from inspect import getmembers\n",
    "from types import FunctionType\n",
    "\n",
    "def attributes(obj):\n",
    "    disallowed_names = {\n",
    "      name for name, value in getmembers(type(obj))\n",
    "        if isinstance(value, FunctionType)}\n",
    "    return {\n",
    "      name: getattr(obj, name) for name in dir(obj) \n",
    "        if name[0] != '_' and name not in disallowed_names and hasattr(obj, name)}\n",
    "\n",
    "def print_attributes(obj):\n",
    "    \"print all the current properties and values of an object\"\n",
    "\n",
    "    pprint(attributes(obj))"
   ]
  },
  {
   "cell_type": "markdown",
   "metadata": {},
   "source": [
    "# Basic demo of multi-round Audit\n",
    "Simple recipe for test with multiple rounds: exactly half of selected ballots are for declared winner, naively leading to an ever-escalating audit"
   ]
  },
  {
   "cell_type": "code",
   "execution_count": 9,
   "metadata": {},
   "outputs": [],
   "source": [
    "audit_type = \"ATHENA\"\n",
    "alpha = 0.1\n",
    "delta = 1.0\n",
    "candidates = [\"A\", \"B\"]\n",
    "results = [60000, 40000]\n",
    "ballots_cast = 100000\n",
    "winners = 1\n",
    "name = \"test_election\"\n",
    "model = \"bin\"\n",
    "pstop_goal = [.7, .9]\n",
    "round_schedule = []"
   ]
  },
  {
   "cell_type": "code",
   "execution_count": 10,
   "metadata": {},
   "outputs": [],
   "source": [
    "a = make_audit(audit_type, alpha, delta, candidates, results, ballots_cast, winners, name, model, pstop_goal, round_schedule)"
   ]
  },
  {
   "cell_type": "markdown",
   "metadata": {},
   "source": [
    "## Round 1: select 112 ballots (70% stopping probability), 56 of which are for winner"
   ]
  },
  {
   "cell_type": "code",
   "execution_count": 11,
   "metadata": {},
   "outputs": [],
   "source": [
    "x = a.find_next_round_size(pstop_goal)"
   ]
  },
  {
   "cell_type": "code",
   "execution_count": 12,
   "metadata": {},
   "outputs": [
    {
     "data": {
      "text/plain": [
       "{'detailed': {'A-B': {'pstop_goal': [0.7, 0.9],\n",
       "   'next_round_sizes': [112, 184],\n",
       "   'prob_stop': [0.7002755397469657, 0.9092067701297123]}},\n",
       " 'future_round_sizes': [112, 184]}"
      ]
     },
     "execution_count": 12,
     "metadata": {},
     "output_type": "execute_result"
    }
   ],
   "source": [
    "x"
   ]
  },
  {
   "cell_type": "markdown",
   "metadata": {},
   "source": [
    "Take the first offered sample size, for 70% stopping probability"
   ]
  },
  {
   "cell_type": "code",
   "execution_count": 13,
   "metadata": {},
   "outputs": [],
   "source": [
    "sample_size = x['future_round_sizes'][0]"
   ]
  },
  {
   "cell_type": "code",
   "execution_count": 14,
   "metadata": {},
   "outputs": [
    {
     "data": {
      "text/plain": [
       "112"
      ]
     },
     "execution_count": 14,
     "metadata": {},
     "output_type": "execute_result"
    }
   ],
   "source": [
    "sample_size"
   ]
  },
  {
   "cell_type": "code",
   "execution_count": 15,
   "metadata": {},
   "outputs": [],
   "source": [
    "a.add_round_schedule([sample_size])"
   ]
  },
  {
   "cell_type": "code",
   "execution_count": 16,
   "metadata": {},
   "outputs": [],
   "source": [
    "winner_shares = [sample_size // 2]"
   ]
  },
  {
   "cell_type": "code",
   "execution_count": 17,
   "metadata": {},
   "outputs": [],
   "source": [
    "r = a.find_risk(winner_shares)"
   ]
  },
  {
   "cell_type": "code",
   "execution_count": 18,
   "metadata": {
    "scrolled": true
   },
   "outputs": [
    {
     "data": {
      "text/plain": [
       "{'risk': 0.5444829381038225,\n",
       " 'delta': 9.835828548017783,\n",
       " 'passed': 0,\n",
       " 'observed': [56],\n",
       " 'required': [65]}"
      ]
     },
     "execution_count": 18,
     "metadata": {},
     "output_type": "execute_result"
    }
   ],
   "source": [
    "r"
   ]
  },
  {
   "cell_type": "code",
   "execution_count": 19,
   "metadata": {},
   "outputs": [],
   "source": [
    "def next_round(a, winner_shares, r):\n",
    "    below_kmin = max(r['required']) - max(r['observed'])\n",
    "    x = a.find_next_round_size(pstop_goal)\n",
    "    incremental_round_sizes = list(map(lambda x: x - max(a.round_schedule) + 2 * below_kmin, x['future_round_sizes']))\n",
    "    incremental_sample_size = incremental_round_sizes[0]\n",
    "    a.add_round_schedule(a.round_schedule + [max(a.round_schedule) + incremental_sample_size])\n",
    "    next_total_winner_share = a.round_schedule[-1] // 2\n",
    "    winner_shares += [next_total_winner_share]\n",
    "    print(f'Next round: select {incremental_sample_size} more ballots, next total winner share is {next_total_winner_share}')\n",
    "    r = a.find_risk(winner_shares)\n",
    "    return r"
   ]
  },
  {
   "cell_type": "markdown",
   "metadata": {},
   "source": [
    "## Round 2: select 132 more ballots, half of which are for winner"
   ]
  },
  {
   "cell_type": "code",
   "execution_count": 20,
   "metadata": {},
   "outputs": [
    {
     "name": "stdout",
     "output_type": "stream",
     "text": [
      "Next round: select 132 more ballots, next total winner share is 122\n"
     ]
    }
   ],
   "source": [
    "r = next_round(a, winner_shares, r)"
   ]
  },
  {
   "cell_type": "code",
   "execution_count": 21,
   "metadata": {},
   "outputs": [
    {
     "data": {
      "text/plain": [
       "[112, 244]"
      ]
     },
     "execution_count": 21,
     "metadata": {},
     "output_type": "execute_result"
    }
   ],
   "source": [
    "a.round_schedule"
   ]
  },
  {
   "cell_type": "code",
   "execution_count": 22,
   "metadata": {
    "scrolled": true
   },
   "outputs": [
    {
     "data": {
      "text/plain": [
       "{'risk': 0.5444829381038225,\n",
       " 'delta': 145.5156049638303,\n",
       " 'passed': 0,\n",
       " 'observed': [56, 122],\n",
       " 'required': [65, 137]}"
      ]
     },
     "execution_count": 22,
     "metadata": {},
     "output_type": "execute_result"
    }
   ],
   "source": [
    "r"
   ]
  },
  {
   "cell_type": "markdown",
   "metadata": {},
   "source": [
    "## Round 3: select 174 more ballots, half for winner"
   ]
  },
  {
   "cell_type": "code",
   "execution_count": 23,
   "metadata": {},
   "outputs": [
    {
     "name": "stdout",
     "output_type": "stream",
     "text": [
      "Next round: select 174 more ballots, next total winner share is 209\n"
     ]
    }
   ],
   "source": [
    "r = next_round(a, winner_shares, r)"
   ]
  },
  {
   "cell_type": "code",
   "execution_count": 24,
   "metadata": {},
   "outputs": [
    {
     "data": {
      "text/plain": [
       "[112, 244, 418]"
      ]
     },
     "execution_count": 24,
     "metadata": {},
     "output_type": "execute_result"
    }
   ],
   "source": [
    "a.round_schedule"
   ]
  },
  {
   "cell_type": "code",
   "execution_count": 25,
   "metadata": {
    "scrolled": true
   },
   "outputs": [
    {
     "data": {
      "text/plain": [
       "{'risk': 0.5444829381038225,\n",
       " 'delta': 5073.554088943761,\n",
       " 'passed': 0,\n",
       " 'observed': [56, 122, 209],\n",
       " 'required': [65, 137, 232]}"
      ]
     },
     "execution_count": 25,
     "metadata": {},
     "output_type": "execute_result"
    }
   ],
   "source": [
    "r"
   ]
  },
  {
   "cell_type": "markdown",
   "metadata": {},
   "source": [
    "## Re-imagine last final winner share\n",
    "`passed` should be true with the required winner share, false with one less"
   ]
  },
  {
   "cell_type": "code",
   "execution_count": 26,
   "metadata": {},
   "outputs": [
    {
     "data": {
      "text/plain": [
       "{'risk': 0.08229447087655635,\n",
       " 'delta': 0.45207796198550587,\n",
       " 'passed': 1,\n",
       " 'observed': [56, 122, 232],\n",
       " 'required': [65, 137, 232]}"
      ]
     },
     "execution_count": 26,
     "metadata": {},
     "output_type": "execute_result"
    }
   ],
   "source": [
    "a.find_risk(winner_shares[:-1] + [r['required'][-1]])"
   ]
  },
  {
   "cell_type": "code",
   "execution_count": 27,
   "metadata": {},
   "outputs": [
    {
     "data": {
      "text/plain": [
       "{'risk': 0.10984559911191313,\n",
       " 'delta': 0.6781169429782573,\n",
       " 'passed': 0,\n",
       " 'observed': [56, 122, 231],\n",
       " 'required': [65, 137, 232]}"
      ]
     },
     "execution_count": 27,
     "metadata": {},
     "output_type": "execute_result"
    }
   ],
   "source": [
    "a.find_risk(winner_shares[:-1] + [r['required'][-1] - 1])"
   ]
  },
  {
   "cell_type": "markdown",
   "metadata": {},
   "source": [
    "# Demo with 100 irrelevant ballots\n",
    "Show a bit of performance / timing info also\n",
    "\n",
    "FIXME: Needs more checking and updating, I think...."
   ]
  },
  {
   "cell_type": "code",
   "execution_count": 28,
   "metadata": {},
   "outputs": [],
   "source": [
    "audit_type = \"ATHENA\"\n",
    "alpha = 0.1\n",
    "delta = 1.0\n",
    "candidates = [\"A\", \"B\"]\n",
    "results = [600, 300]\n",
    "ballots_cast = 1000\n",
    "winners = 1\n",
    "name = \"test_election\"\n",
    "model = \"bin\"\n",
    "pstop_goal = [.5, .7, .9]\n",
    "round_schedule = []"
   ]
  },
  {
   "cell_type": "code",
   "execution_count": 29,
   "metadata": {},
   "outputs": [],
   "source": [
    "a = make_audit(audit_type, alpha, delta, candidates, results, ballots_cast, winners, name, model, pstop_goal, round_schedule)"
   ]
  },
  {
   "cell_type": "code",
   "execution_count": 30,
   "metadata": {},
   "outputs": [
    {
     "name": "stdout",
     "output_type": "stream",
     "text": [
      "CPU times: user 37.6 ms, sys: 0 ns, total: 37.6 ms\n",
      "Wall time: 37.6 ms\n"
     ]
    }
   ],
   "source": [
    "%time x = a.find_next_round_size(pstop_goal)"
   ]
  },
  {
   "cell_type": "code",
   "execution_count": 31,
   "metadata": {},
   "outputs": [
    {
     "data": {
      "text/plain": [
       "{'detailed': {'A-B': {'pstop_goal': [0.5, 0.7, 0.9],\n",
       "   'next_round_sizes': [32, 48, 69],\n",
       "   'prob_stop': [0.535513313605613, 0.7610118463711638, 0.9021135361161704]}},\n",
       " 'future_round_sizes': [32, 48, 69]}"
      ]
     },
     "execution_count": 31,
     "metadata": {},
     "output_type": "execute_result"
    }
   ],
   "source": [
    "x"
   ]
  },
  {
   "cell_type": "code",
   "execution_count": 32,
   "metadata": {},
   "outputs": [
    {
     "name": "stdout",
     "output_type": "stream",
     "text": [
      "24.1 ms ± 3.57 ms per loop (mean ± std. dev. of 7 runs, 10 loops each)\n"
     ]
    }
   ],
   "source": [
    "%%timeit\n",
    "x = a.find_next_round_size(pstop_goal)"
   ]
  },
  {
   "cell_type": "code",
   "execution_count": 33,
   "metadata": {},
   "outputs": [],
   "source": [
    "sample_size = x['future_round_sizes'][0]"
   ]
  },
  {
   "cell_type": "code",
   "execution_count": 34,
   "metadata": {},
   "outputs": [],
   "source": [
    "a.add_round_schedule([sample_size])"
   ]
  },
  {
   "cell_type": "code",
   "execution_count": 35,
   "metadata": {
    "scrolled": true
   },
   "outputs": [
    {
     "data": {
      "text/plain": [
       "[32]"
      ]
     },
     "execution_count": 35,
     "metadata": {},
     "output_type": "execute_result"
    }
   ],
   "source": [
    "a.round_schedule"
   ]
  },
  {
   "cell_type": "code",
   "execution_count": 36,
   "metadata": {},
   "outputs": [],
   "source": [
    "r = a.find_risk([sample_size // 2])"
   ]
  },
  {
   "cell_type": "code",
   "execution_count": 37,
   "metadata": {},
   "outputs": [
    {
     "data": {
      "text/plain": [
       "{'risk': 0.5794753786910353,\n",
       " 'delta': 6.583250172027414,\n",
       " 'passed': 0,\n",
       " 'observed': [16],\n",
       " 'required': [19]}"
      ]
     },
     "execution_count": 37,
     "metadata": {},
     "output_type": "execute_result"
    }
   ],
   "source": [
    "r"
   ]
  },
  {
   "cell_type": "code",
   "execution_count": 38,
   "metadata": {},
   "outputs": [
    {
     "data": {
      "text/plain": [
       "32"
      ]
     },
     "execution_count": 38,
     "metadata": {},
     "output_type": "execute_result"
    }
   ],
   "source": [
    "sample_size"
   ]
  },
  {
   "cell_type": "code",
   "execution_count": 39,
   "metadata": {},
   "outputs": [
    {
     "data": {
      "text/plain": [
       "[(0, 0.9999999999999988),\n",
       " (10, 0.9899785723715814),\n",
       " (20, 0.1421578033679998),\n",
       " (30, 0.0003768747035901778)]"
      ]
     },
     "execution_count": 39,
     "metadata": {},
     "output_type": "execute_result"
    }
   ],
   "source": [
    "[(w, a.find_risk([w])['risk']) for w in range(0, sample_size, 10)]"
   ]
  },
  {
   "cell_type": "code",
   "execution_count": 40,
   "metadata": {},
   "outputs": [],
   "source": [
    "winner_share_big_win = 2 * sample_size // 3"
   ]
  },
  {
   "cell_type": "code",
   "execution_count": 41,
   "metadata": {},
   "outputs": [],
   "source": [
    "r = a.find_risk([winner_share_big_win])"
   ]
  },
  {
   "cell_type": "code",
   "execution_count": 42,
   "metadata": {},
   "outputs": [
    {
     "data": {
      "text/plain": [
       "{'risk': 0.08750577539655499,\n",
       " 'delta': 0.20572656787585716,\n",
       " 'passed': 1,\n",
       " 'observed': [21],\n",
       " 'required': [19]}"
      ]
     },
     "execution_count": 42,
     "metadata": {},
     "output_type": "execute_result"
    }
   ],
   "source": [
    "r"
   ]
  },
  {
   "cell_type": "code",
   "execution_count": 43,
   "metadata": {},
   "outputs": [],
   "source": [
    "x = find_next_round_size(audit_type, alpha, delta, candidates, results, ballots_cast, winners, name, model, pstop_goal, round_schedule)"
   ]
  },
  {
   "cell_type": "code",
   "execution_count": 44,
   "metadata": {
    "scrolled": true
   },
   "outputs": [
    {
     "data": {
      "text/plain": [
       "{'detailed': {'A-B': {'pstop_goal': [0.5, 0.7, 0.9],\n",
       "   'next_round_sizes': [32, 48, 69],\n",
       "   'prob_stop': [0.535513313605613, 0.7610118463711638, 0.9021135361161704]}},\n",
       " 'future_round_sizes': [32, 48, 69]}"
      ]
     },
     "execution_count": 44,
     "metadata": {},
     "output_type": "execute_result"
    }
   ],
   "source": [
    "x"
   ]
  },
  {
   "cell_type": "code",
   "execution_count": 45,
   "metadata": {},
   "outputs": [],
   "source": [
    "round_schedule = a.round_schedule"
   ]
  },
  {
   "cell_type": "code",
   "execution_count": 46,
   "metadata": {},
   "outputs": [
    {
     "data": {
      "text/plain": [
       "[32]"
      ]
     },
     "execution_count": 46,
     "metadata": {},
     "output_type": "execute_result"
    }
   ],
   "source": [
    "round_schedule"
   ]
  },
  {
   "cell_type": "code",
   "execution_count": 47,
   "metadata": {},
   "outputs": [],
   "source": [
    "a.add_round_schedule(round_schedule)"
   ]
  },
  {
   "cell_type": "code",
   "execution_count": 48,
   "metadata": {},
   "outputs": [
    {
     "data": {
      "text/plain": [
       "[32]"
      ]
     },
     "execution_count": 48,
     "metadata": {},
     "output_type": "execute_result"
    }
   ],
   "source": [
    "a.round_schedule"
   ]
  },
  {
   "cell_type": "code",
   "execution_count": 49,
   "metadata": {},
   "outputs": [],
   "source": [
    "x = a.find_next_round_size(pstop_goal)"
   ]
  },
  {
   "cell_type": "code",
   "execution_count": 50,
   "metadata": {},
   "outputs": [
    {
     "data": {
      "text/plain": [
       "{'detailed': {'A-B': {'pstop_goal': [0.5, 0.7, 0.9],\n",
       "   'next_round_sizes': [60, 69, 109],\n",
       "   'prob_stop': [0.7978204745282979, 0.8663421621443725, 0.9574296496375156]}},\n",
       " 'future_round_sizes': [60, 69, 109]}"
      ]
     },
     "execution_count": 50,
     "metadata": {},
     "output_type": "execute_result"
    }
   ],
   "source": [
    "x"
   ]
  },
  {
   "cell_type": "code",
   "execution_count": 51,
   "metadata": {},
   "outputs": [],
   "source": [
    "below_kmin = max(r['required']) - max(r['observed'])"
   ]
  },
  {
   "cell_type": "code",
   "execution_count": 52,
   "metadata": {},
   "outputs": [
    {
     "data": {
      "text/plain": [
       "(19, 21)"
      ]
     },
     "execution_count": 52,
     "metadata": {},
     "output_type": "execute_result"
    }
   ],
   "source": [
    "(max(r['required']), max(r['observed']))"
   ]
  },
  {
   "cell_type": "code",
   "execution_count": 53,
   "metadata": {},
   "outputs": [],
   "source": [
    "future_round_sizes = x['future_round_sizes']"
   ]
  },
  {
   "cell_type": "code",
   "execution_count": 54,
   "metadata": {},
   "outputs": [
    {
     "data": {
      "text/plain": [
       "-2"
      ]
     },
     "execution_count": 54,
     "metadata": {},
     "output_type": "execute_result"
    }
   ],
   "source": [
    "below_kmin"
   ]
  },
  {
   "cell_type": "code",
   "execution_count": 55,
   "metadata": {},
   "outputs": [
    {
     "data": {
      "text/plain": [
       "[60, 69, 109]"
      ]
     },
     "execution_count": 55,
     "metadata": {},
     "output_type": "execute_result"
    }
   ],
   "source": [
    "future_round_sizes"
   ]
  },
  {
   "cell_type": "code",
   "execution_count": 56,
   "metadata": {},
   "outputs": [
    {
     "data": {
      "text/plain": [
       "[24, 33, 73]"
      ]
     },
     "execution_count": 56,
     "metadata": {},
     "output_type": "execute_result"
    }
   ],
   "source": [
    "list(map(lambda x: x - max(round_schedule) + 2 * below_kmin, future_round_sizes))"
   ]
  },
  {
   "cell_type": "markdown",
   "metadata": {},
   "source": [
    "# Try to reproduce R2B2/Athena vs BRAVO\n",
    "Sample Sizes for 90% probability of ending a Ballot Polling Audit of 2016 statewide Presidential contest\n",
    "\n",
    "with risk limit 0.1, larger margins\n"
   ]
  },
  {
   "cell_type": "code",
   "execution_count": 57,
   "metadata": {},
   "outputs": [],
   "source": [
    "# Read in data from 2016\n",
    "election_2016 = json.load(open('data/2016_election.json'))"
   ]
  },
  {
   "cell_type": "code",
   "execution_count": 58,
   "metadata": {
    "scrolled": false
   },
   "outputs": [
    {
     "data": {
      "text/plain": [
       "{'contests': {'presidential': {'winners': 1,\n",
       "   'candidates': ['Clinton', 'Trump'],\n",
       "   'results': [729547, 1318255],\n",
       "   'ballots_cast': 2123372,\n",
       "   'state_id': 1,\n",
       "   'margin': -0.2874828718792149}}}"
      ]
     },
     "execution_count": 58,
     "metadata": {},
     "output_type": "execute_result"
    }
   ],
   "source": [
    "election_2016['Alabama']"
   ]
  },
  {
   "cell_type": "code",
   "execution_count": 59,
   "metadata": {},
   "outputs": [],
   "source": [
    "def sample_state(state):\n",
    "    \"Return sample information for given state from 2016\"\n",
    "\n",
    "    election = election_2016[state]\n",
    "    candidates = election['contests']['presidential']['candidates']\n",
    "    results = election['contests']['presidential']['results']\n",
    "    ballots_cast = election['contests']['presidential']['ballots_cast']\n",
    "    athena_sample = sample90v(results[0], results[1], ballots_cast)\n",
    "    return athena_sample"
   ]
  },
  {
   "cell_type": "code",
   "execution_count": 60,
   "metadata": {},
   "outputs": [],
   "source": [
    "states = ['Alabama', 'Maryland', 'New York', 'Rhode Island', 'New Jersey', 'Ohio', 'Virginia',\n",
    "          'Georgia', 'North Carolina', 'Arizona', 'Nevada' ]\n",
    "# skip 'Minnesota', 'Florida', 'Wisconsin', 'Pennsylvania', 'Michigan']"
   ]
  },
  {
   "cell_type": "code",
   "execution_count": 61,
   "metadata": {},
   "outputs": [],
   "source": [
    "athena_results = {}\n",
    "with redirect_output(\"debug_output.txt\"):\n",
    "  for state in states:\n",
    "    athena_results[state] = sample_state(state)"
   ]
  },
  {
   "cell_type": "code",
   "execution_count": 62,
   "metadata": {},
   "outputs": [
    {
     "data": {
      "text/plain": [
       "{'Alabama': 90,\n",
       " 'Maryland': 94,\n",
       " 'New York': 132,\n",
       " 'Rhode Island': 288,\n",
       " 'New Jersey': 346,\n",
       " 'Ohio': 1024,\n",
       " 'Virginia': 2365,\n",
       " 'Georgia': 2606,\n",
       " 'North Carolina': 5117,\n",
       " 'Arizona': 5313,\n",
       " 'Nevada': 11389}"
      ]
     },
     "execution_count": 62,
     "metadata": {},
     "output_type": "execute_result"
    }
   ],
   "source": [
    "{s: r[0]  for s, r in athena_results.items()}"
   ]
  },
  {
   "cell_type": "markdown",
   "metadata": {},
   "source": [
    "# Misc snippets of code"
   ]
  },
  {
   "cell_type": "code",
   "execution_count": 63,
   "metadata": {},
   "outputs": [],
   "source": [
    "with redirect_output(\"my_output.txt\"):\n",
    "    x = sample_state('Alabama')"
   ]
  },
  {
   "cell_type": "code",
   "execution_count": 64,
   "metadata": {
    "scrolled": true
   },
   "outputs": [
    {
     "data": {
      "text/plain": [
       "(90,\n",
       " {'detailed': {'A-B': {'pstop_goal': [0.9],\n",
       "    'next_round_sizes': [90],\n",
       "    'prob_stop': [0.9054503985476622]}},\n",
       "  'future_round_sizes': [90]})"
      ]
     },
     "execution_count": 64,
     "metadata": {},
     "output_type": "execute_result"
    }
   ],
   "source": [
    "x"
   ]
  },
  {
   "cell_type": "code",
   "execution_count": 65,
   "metadata": {},
   "outputs": [
    {
     "name": "stderr",
     "output_type": "stream",
     "text": [
      "WARNING:root:FULL RECOUNT is suggested!\n",
      "WARNING:root:Probability of stopping at: [22, 33] is 0.6908930982960162\n",
      "WARNING:root:FULL RECOUNT is suggested!\n",
      "WARNING:root:Probability of stopping at: [22, 33] is 0.6908930982960162\n"
     ]
    }
   ],
   "source": [
    "e3 = find_next_round_size(audit_type, alpha, delta, [\"A\", \"B\", \"C\"], [600, 300, 100], ballots_cast, winners, name, model, pstop_goal, round_schedule)"
   ]
  },
  {
   "cell_type": "code",
   "execution_count": 66,
   "metadata": {},
   "outputs": [
    {
     "data": {
      "text/plain": [
       "{'detailed': {'A-B': {'pstop_goal': [0.5, 0.7, 0.9],\n",
       "   'next_round_sizes': [60, 69, 109],\n",
       "   'prob_stop': [0.7978204745282979, 0.8663421621443725, 0.9574296496375156]},\n",
       "  'A-C': {'pstop_goal': [0.5, 0.7, 0.9],\n",
       "   'next_round_sizes': [48, 48, 48],\n",
       "   'prob_stop': [0.9910306966080233, 0.6908930982960162, 0.6908930982960162]}},\n",
       " 'future_round_sizes': [60, 69, 109]}"
      ]
     },
     "execution_count": 66,
     "metadata": {},
     "output_type": "execute_result"
    }
   ],
   "source": [
    "e3"
   ]
  },
  {
   "cell_type": "code",
   "execution_count": 67,
   "metadata": {},
   "outputs": [],
   "source": [
    "election = {\n",
    "    \"alpha\": alpha,\n",
    "    \"delta\": delta,\n",
    "    \"candidates\": candidates,\n",
    "    \"results\": results,\n",
    "    \"ballots_cast\": ballots_cast,\n",
    "    \"winners\": winners,\n",
    "    \"name\": name,\n",
    "    \"model\": model,\n",
    "    \"pstop\": pstop_goal,\n",
    "}"
   ]
  },
  {
   "cell_type": "markdown",
   "metadata": {},
   "source": [
    "# Ignore the rest - earlier work by hand"
   ]
  },
  {
   "cell_type": "code",
   "execution_count": 68,
   "metadata": {},
   "outputs": [],
   "source": [
    "below_kmin = max(r['required']) - max(r['observed'])"
   ]
  },
  {
   "cell_type": "code",
   "execution_count": 69,
   "metadata": {},
   "outputs": [
    {
     "data": {
      "text/plain": [
       "-2"
      ]
     },
     "execution_count": 69,
     "metadata": {},
     "output_type": "execute_result"
    }
   ],
   "source": [
    "below_kmin"
   ]
  },
  {
   "cell_type": "code",
   "execution_count": 70,
   "metadata": {},
   "outputs": [
    {
     "data": {
      "text/plain": [
       "(19, 21)"
      ]
     },
     "execution_count": 70,
     "metadata": {},
     "output_type": "execute_result"
    }
   ],
   "source": [
    "(max(r['required']), max(r['observed']))"
   ]
  },
  {
   "cell_type": "code",
   "execution_count": 71,
   "metadata": {},
   "outputs": [],
   "source": [
    "x = a.find_next_round_size(pstop_goal)"
   ]
  },
  {
   "cell_type": "code",
   "execution_count": 72,
   "metadata": {},
   "outputs": [],
   "source": [
    "future_round_sizes = x['future_round_sizes']"
   ]
  },
  {
   "cell_type": "code",
   "execution_count": 73,
   "metadata": {
    "scrolled": true
   },
   "outputs": [
    {
     "data": {
      "text/plain": [
       "[60, 69, 109]"
      ]
     },
     "execution_count": 73,
     "metadata": {},
     "output_type": "execute_result"
    }
   ],
   "source": [
    "future_round_sizes"
   ]
  },
  {
   "cell_type": "code",
   "execution_count": 74,
   "metadata": {},
   "outputs": [],
   "source": [
    "incremental_round_sizes = list(map(lambda x: x - max(a.round_schedule) + 2 * below_kmin, future_round_sizes))"
   ]
  },
  {
   "cell_type": "code",
   "execution_count": 75,
   "metadata": {
    "scrolled": false
   },
   "outputs": [
    {
     "data": {
      "text/plain": [
       "[24, 33, 73]"
      ]
     },
     "execution_count": 75,
     "metadata": {},
     "output_type": "execute_result"
    }
   ],
   "source": [
    "incremental_round_sizes"
   ]
  },
  {
   "cell_type": "code",
   "execution_count": 76,
   "metadata": {},
   "outputs": [],
   "source": [
    "incremental_sample_size = incremental_round_sizes[0]"
   ]
  },
  {
   "cell_type": "code",
   "execution_count": 77,
   "metadata": {},
   "outputs": [
    {
     "data": {
      "text/plain": [
       "24"
      ]
     },
     "execution_count": 77,
     "metadata": {},
     "output_type": "execute_result"
    }
   ],
   "source": [
    "incremental_sample_size"
   ]
  },
  {
   "cell_type": "code",
   "execution_count": 78,
   "metadata": {},
   "outputs": [],
   "source": [
    "a.add_round_schedule(a.round_schedule + [max(a.round_schedule) + incremental_sample_size])"
   ]
  },
  {
   "cell_type": "code",
   "execution_count": 79,
   "metadata": {
    "scrolled": true
   },
   "outputs": [
    {
     "name": "stdout",
     "output_type": "stream",
     "text": [
      "{'alpha': 0.1,\n",
      " 'audit_kmins': [19],\n",
      " 'audit_observations': [],\n",
      " 'audit_type': 'ATHENA',\n",
      " 'delta': 1.0,\n",
      " 'election': <athena.election.Election object at 0x7fa0b27fb2d0>,\n",
      " 'elections': [],\n",
      " 'round_schedule': [32, 56]}\n"
     ]
    }
   ],
   "source": [
    "print_attributes(a)"
   ]
  },
  {
   "cell_type": "code",
   "execution_count": 80,
   "metadata": {},
   "outputs": [],
   "source": [
    "winner_shares += [a.round_schedule[-1] // 2]"
   ]
  },
  {
   "cell_type": "code",
   "execution_count": 81,
   "metadata": {},
   "outputs": [
    {
     "data": {
      "text/plain": [
       "[56, 122, 209, 28]"
      ]
     },
     "execution_count": 81,
     "metadata": {},
     "output_type": "execute_result"
    }
   ],
   "source": [
    "winner_shares"
   ]
  },
  {
   "cell_type": "code",
   "execution_count": 82,
   "metadata": {},
   "outputs": [
    {
     "ename": "IndexError",
     "evalue": "index 56 is out of bounds for axis 0 with size 33",
     "output_type": "error",
     "traceback": [
      "\u001b[0;31m---------------------------------------------------------------------------\u001b[0m",
      "\u001b[0;31mIndexError\u001b[0m                                Traceback (most recent call last)",
      "\u001b[0;32m<ipython-input-82-805ce566af19>\u001b[0m in \u001b[0;36m<module>\u001b[0;34m\u001b[0m\n\u001b[0;32m----> 1\u001b[0;31m \u001b[0mr\u001b[0m \u001b[0;34m=\u001b[0m \u001b[0ma\u001b[0m\u001b[0;34m.\u001b[0m\u001b[0mfind_risk\u001b[0m\u001b[0;34m(\u001b[0m\u001b[0mwinner_shares\u001b[0m\u001b[0;34m)\u001b[0m\u001b[0;34m\u001b[0m\u001b[0;34m\u001b[0m\u001b[0m\n\u001b[0m",
      "\u001b[0;32m/srv/s/electionaudits/arlo/arlo/R2B2/code/athena/audit.py\u001b[0m in \u001b[0;36mfind_risk\u001b[0;34m(self, audit_observations)\u001b[0m\n\u001b[1;32m    129\u001b[0m                 \u001b[0;31m#w = audit_object.estimate_risk(margin, actual_kmins, round_schedule)\u001b[0m\u001b[0;34m\u001b[0m\u001b[0;34m\u001b[0m\u001b[0;34m\u001b[0m\u001b[0m\n\u001b[1;32m    130\u001b[0m                 \u001b[0;31m#w = audit_object.estimate_risk(margin, test_info[\"kmins\"], self.round_schedule, audit_observations)\u001b[0m\u001b[0;34m\u001b[0m\u001b[0;34m\u001b[0m\u001b[0;34m\u001b[0m\u001b[0m\n\u001b[0;32m--> 131\u001b[0;31m                 \u001b[0mw\u001b[0m \u001b[0;34m=\u001b[0m \u001b[0maudit_object\u001b[0m\u001b[0;34m.\u001b[0m\u001b[0mestimate_risk\u001b[0m\u001b[0;34m(\u001b[0m\u001b[0mmargin\u001b[0m\u001b[0;34m,\u001b[0m \u001b[0mself\u001b[0m\u001b[0;34m.\u001b[0m\u001b[0maudit_kmins\u001b[0m\u001b[0;34m,\u001b[0m \u001b[0mself\u001b[0m\u001b[0;34m.\u001b[0m\u001b[0mround_schedule\u001b[0m\u001b[0;34m,\u001b[0m \u001b[0maudit_observations\u001b[0m\u001b[0;34m)\u001b[0m\u001b[0;34m\u001b[0m\u001b[0;34m\u001b[0m\u001b[0m\n\u001b[0m\u001b[1;32m    132\u001b[0m                 \u001b[0;31m#logging.info(str(w))\u001b[0m\u001b[0;34m\u001b[0m\u001b[0;34m\u001b[0m\u001b[0;34m\u001b[0m\u001b[0m\n\u001b[1;32m    133\u001b[0m                 \u001b[0;31m#ratio = w[\"ratio\"]\u001b[0m\u001b[0;34m\u001b[0m\u001b[0;34m\u001b[0m\u001b[0;34m\u001b[0m\u001b[0m\n",
      "\u001b[0;32m/srv/s/electionaudits/arlo/arlo/R2B2/code/athena/athena.py\u001b[0m in \u001b[0;36mestimate_risk\u001b[0;34m(self, margin, kmins, round_schedule, audit_observations)\u001b[0m\n\u001b[1;32m    435\u001b[0m \u001b[0;34m\u001b[0m\u001b[0m\n\u001b[1;32m    436\u001b[0m             \u001b[0;32mif\u001b[0m \u001b[0mprob_table\u001b[0m\u001b[0;34m[\u001b[0m\u001b[0mkmins\u001b[0m\u001b[0;34m[\u001b[0m\u001b[0mround\u001b[0m\u001b[0;34m]\u001b[0m\u001b[0;34m]\u001b[0m \u001b[0;32mis\u001b[0m \u001b[0;32mnot\u001b[0m \u001b[0;36m0\u001b[0m \u001b[0;32mand\u001b[0m \u001b[0mround\u001b[0m \u001b[0;34m<\u001b[0m \u001b[0mlen\u001b[0m\u001b[0;34m(\u001b[0m\u001b[0maudit_observations\u001b[0m\u001b[0;34m)\u001b[0m\u001b[0;34m:\u001b[0m\u001b[0;34m\u001b[0m\u001b[0;34m\u001b[0m\u001b[0m\n\u001b[0;32m--> 437\u001b[0;31m                 \u001b[0;32mif\u001b[0m \u001b[0mprob_table\u001b[0m\u001b[0;34m[\u001b[0m\u001b[0maudit_observations\u001b[0m\u001b[0;34m[\u001b[0m\u001b[0mround\u001b[0m\u001b[0;34m]\u001b[0m\u001b[0;34m]\u001b[0m \u001b[0;34m>\u001b[0m \u001b[0;36m0\u001b[0m\u001b[0;34m:\u001b[0m\u001b[0;34m\u001b[0m\u001b[0;34m\u001b[0m\u001b[0m\n\u001b[0m\u001b[1;32m    438\u001b[0m                     \u001b[0mdeltas\u001b[0m\u001b[0;34m.\u001b[0m\u001b[0mappend\u001b[0m\u001b[0;34m(\u001b[0m\u001b[0mabs\u001b[0m\u001b[0;34m(\u001b[0m\u001b[0mprob_tied_table\u001b[0m\u001b[0;34m[\u001b[0m\u001b[0maudit_observations\u001b[0m\u001b[0;34m[\u001b[0m\u001b[0mround\u001b[0m\u001b[0;34m]\u001b[0m\u001b[0;34m]\u001b[0m \u001b[0;34m/\u001b[0m \u001b[0mprob_table\u001b[0m\u001b[0;34m[\u001b[0m\u001b[0maudit_observations\u001b[0m\u001b[0;34m[\u001b[0m\u001b[0mround\u001b[0m\u001b[0;34m]\u001b[0m\u001b[0;34m]\u001b[0m\u001b[0;34m)\u001b[0m\u001b[0;34m)\u001b[0m\u001b[0;34m\u001b[0m\u001b[0;34m\u001b[0m\u001b[0m\n\u001b[1;32m    439\u001b[0m \u001b[0;34m\u001b[0m\u001b[0m\n",
      "\u001b[0;31mIndexError\u001b[0m: index 56 is out of bounds for axis 0 with size 33"
     ]
    }
   ],
   "source": [
    "r = a.find_risk(winner_shares)"
   ]
  },
  {
   "cell_type": "code",
   "execution_count": null,
   "metadata": {
    "scrolled": true
   },
   "outputs": [],
   "source": [
    "r"
   ]
  },
  {
   "cell_type": "markdown",
   "metadata": {},
   "source": [
    "## Round 3"
   ]
  },
  {
   "cell_type": "code",
   "execution_count": null,
   "metadata": {},
   "outputs": [],
   "source": [
    "below_kmin = max(r['required']) - max(r['observed'])"
   ]
  },
  {
   "cell_type": "code",
   "execution_count": null,
   "metadata": {},
   "outputs": [],
   "source": [
    "below_kmin"
   ]
  },
  {
   "cell_type": "code",
   "execution_count": null,
   "metadata": {},
   "outputs": [],
   "source": [
    "(max(r['required']), max(r['observed']))"
   ]
  },
  {
   "cell_type": "code",
   "execution_count": null,
   "metadata": {},
   "outputs": [],
   "source": [
    "x = a.find_next_round_size(pstop_goal)"
   ]
  },
  {
   "cell_type": "code",
   "execution_count": null,
   "metadata": {},
   "outputs": [],
   "source": [
    "future_round_sizes = x['future_round_sizes']"
   ]
  },
  {
   "cell_type": "code",
   "execution_count": null,
   "metadata": {
    "scrolled": true
   },
   "outputs": [],
   "source": [
    "future_round_sizes"
   ]
  },
  {
   "cell_type": "code",
   "execution_count": null,
   "metadata": {},
   "outputs": [],
   "source": [
    "incremental_round_sizes = list(map(lambda x: x - max(a.round_schedule) + 2 * below_kmin, future_round_sizes))"
   ]
  },
  {
   "cell_type": "code",
   "execution_count": null,
   "metadata": {
    "scrolled": false
   },
   "outputs": [],
   "source": [
    "incremental_round_sizes"
   ]
  },
  {
   "cell_type": "markdown",
   "metadata": {},
   "source": [
    "Tracks interactive output so far: https://gist.github.com/nealmcb/0a165b790b6732096c89535d66aab976"
   ]
  },
  {
   "cell_type": "markdown",
   "metadata": {},
   "source": [
    "[not true? ] For some reason, need to create a new Audit object with round schedule, can't just update round schedule in existing Audit object (?)"
   ]
  },
  {
   "cell_type": "code",
   "execution_count": null,
   "metadata": {},
   "outputs": [],
   "source": [
    "a = make_audit(audit_type, alpha, delta, candidates, results, ballots_cast, winners, name, model, pstop_goal, round_schedule)"
   ]
  },
  {
   "cell_type": "code",
   "execution_count": null,
   "metadata": {},
   "outputs": [],
   "source": [
    "x = a.find_next_round_size(pstop_goal)"
   ]
  },
  {
   "cell_type": "code",
   "execution_count": null,
   "metadata": {
    "scrolled": true
   },
   "outputs": [],
   "source": [
    "x"
   ]
  },
  {
   "cell_type": "code",
   "execution_count": null,
   "metadata": {},
   "outputs": [],
   "source": [
    "future_round_sizes = x['future_round_sizes']"
   ]
  },
  {
   "cell_type": "code",
   "execution_count": null,
   "metadata": {},
   "outputs": [],
   "source": [
    "future_round_sizes"
   ]
  },
  {
   "cell_type": "markdown",
   "metadata": {},
   "source": [
    "doesn't match: 112, 184.  should be 226 260 328?"
   ]
  },
  {
   "cell_type": "code",
   "execution_count": null,
   "metadata": {},
   "outputs": [],
   "source": []
  },
  {
   "cell_type": "code",
   "execution_count": null,
   "metadata": {},
   "outputs": [],
   "source": [
    "future_round_sizes"
   ]
  },
  {
   "cell_type": "code",
   "execution_count": null,
   "metadata": {},
   "outputs": [],
   "source": [
    "list(map(lambda x: x - max(round_schedule) + 2 * below_kmin, future_round_sizes))"
   ]
  },
  {
   "cell_type": "code",
   "execution_count": null,
   "metadata": {},
   "outputs": [],
   "source": [
    "max(round_schedule)"
   ]
  },
  {
   "cell_type": "markdown",
   "metadata": {},
   "source": [
    "dups..."
   ]
  },
  {
   "cell_type": "code",
   "execution_count": null,
   "metadata": {},
   "outputs": [],
   "source": [
    "round_schedule = a.round_schedule"
   ]
  },
  {
   "cell_type": "code",
   "execution_count": null,
   "metadata": {},
   "outputs": [],
   "source": [
    "a = make_audit(audit_type, alpha, delta, candidates, results, ballots_cast, winners, name, model, pstop_goal, round_schedule)"
   ]
  },
  {
   "cell_type": "code",
   "execution_count": null,
   "metadata": {},
   "outputs": [],
   "source": [
    "print_attributes(a)"
   ]
  },
  {
   "cell_type": "code",
   "execution_count": null,
   "metadata": {
    "scrolled": true
   },
   "outputs": [],
   "source": [
    "print_attributes(a.election)"
   ]
  }
 ],
 "metadata": {
  "kernelspec": {
   "display_name": "Python 3",
   "language": "python",
   "name": "python3"
  },
  "language_info": {
   "codemirror_mode": {
    "name": "ipython",
    "version": 3
   },
   "file_extension": ".py",
   "mimetype": "text/x-python",
   "name": "python",
   "nbconvert_exporter": "python",
   "pygments_lexer": "ipython3",
   "version": "3.7.4"
  },
  "toc": {
   "colors": {
    "hover_highlight": "#DAA520",
    "running_highlight": "#FF0000",
    "selected_highlight": "#FFD700"
   },
   "moveMenuLeft": true,
   "nav_menu": {
    "height": "117px",
    "width": "252px"
   },
   "navigate_menu": true,
   "number_sections": true,
   "sideBar": true,
   "threshold": 4,
   "toc_cell": false,
   "toc_section_display": "block",
   "toc_window_display": false,
   "widenNotebook": false
  }
 },
 "nbformat": 4,
 "nbformat_minor": 2
}
