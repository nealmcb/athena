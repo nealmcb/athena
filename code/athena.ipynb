{
 "cells": [
  {
   "cell_type": "markdown",
   "metadata": {},
   "source": [
    "# Athena audits: demo and state results\n",
    "Show usage of the Audit class and demo on 2016 presidential contest in selected states"
   ]
  },
  {
   "cell_type": "markdown",
   "metadata": {},
   "source": [
    "## Setup and define some utilities"
   ]
  },
  {
   "cell_type": "code",
   "execution_count": 1,
   "metadata": {},
   "outputs": [],
   "source": [
    "from athena.audit import Audit\n",
    "import math\n",
    "import json\n",
    "import sys"
   ]
  },
  {
   "cell_type": "code",
   "execution_count": 2,
   "metadata": {},
   "outputs": [],
   "source": [
    "def make_audit(audit_type, alpha, delta, candidates, results, ballots_cast, winners, name, model, pstop_goal, round_schedule):\n",
    "    \"Convenience function to mak Audit class with given election parameters\"\n",
    "\n",
    "    election = {\n",
    "        \"alpha\": alpha,\n",
    "        \"delta\": delta,\n",
    "        \"candidates\": candidates,\n",
    "        \"results\": results,\n",
    "        \"ballots_cast\": ballots_cast,\n",
    "        \"winners\": winners,\n",
    "        \"name\": name,\n",
    "        \"model\": model,\n",
    "        \"pstop_goal\": pstop_goal,\n",
    "        \"round_schedule\": round_schedule,\n",
    "    }\n",
    "    a = Audit(audit_type, election['alpha'], election['delta'])\n",
    "    a.add_election(election)\n",
    "    return a"
   ]
  },
  {
   "cell_type": "code",
   "execution_count": 3,
   "metadata": {},
   "outputs": [],
   "source": [
    "def find_next_round_size(audit_type, alpha, delta, candidates, results, ballots_cast, winners, name, model, pstop_goal, round_schedule):\n",
    "    \"Convenience function to call Audit class with given election parameters\"\n",
    "\n",
    "    election = {\n",
    "        \"alpha\": alpha,\n",
    "        \"delta\": delta,\n",
    "        \"candidates\": candidates,\n",
    "        \"results\": results,\n",
    "        \"ballots_cast\": ballots_cast,\n",
    "        \"winners\": winners,\n",
    "        \"name\": name,\n",
    "        \"model\": model,\n",
    "        \"pstop_goal\": pstop_goal,\n",
    "        \"round_schedule\": round_schedule,\n",
    "    }\n",
    "    a = Audit(audit_type, election['alpha'], election['delta'])\n",
    "    a.add_election(election)\n",
    "    x = a.find_next_round_size(election['pstop_goal'])\n",
    "    return x"
   ]
  },
  {
   "cell_type": "code",
   "execution_count": 4,
   "metadata": {},
   "outputs": [],
   "source": [
    "def sample90(margin, audit_type=\"ATHENA\"):\n",
    "    \"Return sample size and other output given margin\"\n",
    "\n",
    "    assert 0.0 < margin < 1.0\n",
    "    ballots_cast = 10000\n",
    "    margin_votes = round(margin * ballots_cast)\n",
    "    b = ballots_cast//2 - margin_votes // 2\n",
    "    a = b + int(margin_votes)\n",
    "    x = find_next_round_size(audit_type, 0.1, 1.0, [\"A\", \"B\"], [a, b], ballots_cast, 1, \"state\", \"bin\", [0.9], [])\n",
    "    return (x['detailed']['A-B']['next_round_sizes'][0], x)"
   ]
  },
  {
   "cell_type": "code",
   "execution_count": 5,
   "metadata": {},
   "outputs": [],
   "source": [
    "def sample90v(a, b, ballots_cast, audit_type=\"ATHENA\"):\n",
    "    \"Return sample size etc. given votes for each of top two candidates in 1-winner contest\"\n",
    "\n",
    "    winner = max(a,b)\n",
    "    loser = min(a,b)\n",
    "    assert 0 < loser < winner < ballots_cast\n",
    "    x = find_next_round_size(audit_type, 0.1, 1.0, [\"A\", \"B\"], [winner, loser], ballots_cast, 1, \"state\", \"bin\", [0.9], [])\n",
    "    return (x['detailed']['A-B']['next_round_sizes'][0], x)"
   ]
  },
  {
   "cell_type": "code",
   "execution_count": 6,
   "metadata": {},
   "outputs": [],
   "source": [
    "# Define a class to avoid cluttering notebook with stdout\n",
    "class redirect_output(object):\n",
    "    \"\"\"context manager for reditrecting stdout/err to files\"\"\"\n",
    "\n",
    "\n",
    "    def __init__(self, stdout='', stderr=''):\n",
    "        self.stdout = stdout\n",
    "        self.stderr = stderr\n",
    "\n",
    "    def __enter__(self):\n",
    "        self.sys_stdout = sys.stdout\n",
    "        self.sys_stderr = sys.stderr\n",
    "\n",
    "        if self.stdout:\n",
    "            sys.stdout = open(self.stdout, 'w')\n",
    "        if self.stderr:\n",
    "            if self.stderr == self.stdout:\n",
    "                sys.stderr = sys.stdout\n",
    "            else:\n",
    "                sys.stderr = open(self.stderr, 'w')\n",
    "\n",
    "    def __exit__(self, exc_type, exc_value, traceback):\n",
    "        sys.stdout = self.sys_stdout\n",
    "        sys.stderr = self.sys_stderr"
   ]
  },
  {
   "cell_type": "markdown",
   "metadata": {},
   "source": [
    "# Basic demo of Audit class"
   ]
  },
  {
   "cell_type": "code",
   "execution_count": 7,
   "metadata": {},
   "outputs": [],
   "source": [
    "audit_type = \"ATHENA\"\n",
    "alpha = 0.1\n",
    "delta = 1.0\n",
    "candidates = [\"A\", \"B\"]\n",
    "results = [600, 300]\n",
    "ballots_cast = 1000\n",
    "winners = 1\n",
    "name = \"test_election\"\n",
    "model = \"bin\"\n",
    "pstop_goal = [.7, .8, .9]\n",
    "round_schedule = []"
   ]
  },
  {
   "cell_type": "code",
   "execution_count": 8,
   "metadata": {},
   "outputs": [],
   "source": [
    "a = make_audit(audit_type, alpha, delta, candidates, results, ballots_cast, winners, name, model, pstop_goal, round_schedule)"
   ]
  },
  {
   "cell_type": "code",
   "execution_count": 9,
   "metadata": {},
   "outputs": [],
   "source": [
    "sample_size = 50\n",
    "sample_results = [30]"
   ]
  },
  {
   "cell_type": "code",
   "execution_count": 10,
   "metadata": {},
   "outputs": [],
   "source": [
    "a.add_round_schedule([sample_size])"
   ]
  },
  {
   "cell_type": "code",
   "execution_count": 11,
   "metadata": {
    "scrolled": true
   },
   "outputs": [
    {
     "data": {
      "text/plain": [
       "[50]"
      ]
     },
     "execution_count": 11,
     "metadata": {},
     "output_type": "execute_result"
    }
   ],
   "source": [
    "a.round_schedule"
   ]
  },
  {
   "cell_type": "code",
   "execution_count": 12,
   "metadata": {},
   "outputs": [
    {
     "name": "stdout",
     "output_type": "stream",
     "text": [
      "\n",
      "\n",
      "A (600) vs B (300)\n",
      "\tmargin:\t0.3333333333333333\n",
      "{'kmins': [28], 'prob_sum': [0.7872329223739568], 'prob_tied_sum': [0.06757822542283723], 'deltas': [0.31280002486757374]}\n",
      "find_kmins_for_risk\n",
      "{'kmins': [30], 'passed': 1}\n",
      "\n",
      "\tAUDIT result:\n",
      "\t\tobserved:\t[30]\n",
      "\t\trequired:\t[28]\n",
      "\n",
      "\t\tTest passed\n",
      "\n",
      "Delta:\t\t0.5938312972095313\n",
      "AUDIT risk:\t0.11591596559800159\n"
     ]
    }
   ],
   "source": [
    "x = a.find_risk(sample_results)"
   ]
  },
  {
   "cell_type": "code",
   "execution_count": 13,
   "metadata": {},
   "outputs": [
    {
     "data": {
      "text/plain": [
       "{'risk': 0.11591596559800159,\n",
       " 'delta': 0.5938312972095313,\n",
       " 'passed': 1,\n",
       " 'observed': [30],\n",
       " 'required': [28]}"
      ]
     },
     "execution_count": 13,
     "metadata": {},
     "output_type": "execute_result"
    }
   ],
   "source": [
    "x"
   ]
  },
  {
   "cell_type": "code",
   "execution_count": 14,
   "metadata": {},
   "outputs": [
    {
     "name": "stdout",
     "output_type": "stream",
     "text": [
      "setting round schedule\n",
      "\n",
      "\n",
      "A (600) vs B (300)\n",
      "\tmargin:\t0.3333333333333333\n",
      "\tpstop goals: [0.7, 0.8, 0.9]\n",
      "\tscaled round schedule: []\n",
      "\t\t->\t22\t45\n",
      "----\t42\t43\t43\t[43]\t[0.7610118463711638]\n",
      "42\n",
      "\t42\t42\t43\t[42]\t[0.6929293416775868]\n",
      "\t\t->\t45\t90\n",
      "----\t45\t50\t50\t[50]\t[0.8035861352110761]\n",
      "45\n",
      "\t45\t45\t50\t[45]\t[0.7872329223739568]\n",
      "\t46\t46\t50\t[46]\t[0.753823829397414]\n",
      "\t48\t48\t50\t[48]\t[0.7799935744279759]\n",
      "\t\t->\t45\t90\n",
      "----\t56\t62\t62\t[62]\t[0.9021135361161704]\n",
      "56\n",
      "\t56\t56\t62\t[56]\t[0.8609452974471495]\n",
      "\t57\t57\t62\t[57]\t[0.8375005329151851]\n",
      "\t58\t58\t62\t[58]\t[0.8762353612723259]\n",
      "\t59\t59\t62\t[59]\t[0.8548389798940872]\n",
      "\t60\t60\t62\t[60]\t[0.8899052715973235]\n",
      "\t61\t61\t62\t[61]\t[0.8704239984288676]\n",
      "\t63\t63\t62\t[63]\t[0.8844130736241462]\n",
      "\t65\t65\t62\t[65]\t[0.8969538871306307]\n",
      "\t\t0.7:\t[47]\t0.7610118463711638\n",
      "\t\t0.8:\t[54]\t0.8317821224884329\n",
      "\t\t0.9:\t[73]\t0.9227167435192974\n"
     ]
    }
   ],
   "source": [
    "x = find_next_round_size(audit_type, alpha, delta, candidates, results, ballots_cast, winners, name, model, pstop_goal, round_schedule)"
   ]
  },
  {
   "cell_type": "code",
   "execution_count": 15,
   "metadata": {
    "scrolled": true
   },
   "outputs": [
    {
     "data": {
      "text/plain": [
       "{'detailed': {'A-B': {'pstop_goal': [0.7, 0.8, 0.9],\n",
       "   'next_round_sizes': [47, 54, 73],\n",
       "   'prob_stop': [0.7610118463711638, 0.8317821224884329, 0.9227167435192974]}},\n",
       " 'future_round_sizes': [47, 54, 73]}"
      ]
     },
     "execution_count": 15,
     "metadata": {},
     "output_type": "execute_result"
    }
   ],
   "source": [
    "x"
   ]
  },
  {
   "cell_type": "code",
   "execution_count": null,
   "metadata": {},
   "outputs": [],
   "source": []
  },
  {
   "cell_type": "markdown",
   "metadata": {},
   "source": [
    "# Try to reproduce R2B2/Athena vs BRAVO\n",
    "Sample Sizes for 90% probability of ending a Ballot Polling Audit of 2016 statewide Presidential contest\n",
    "\n",
    "with risk limit 0.1, larger margins\n"
   ]
  },
  {
   "cell_type": "code",
   "execution_count": 16,
   "metadata": {},
   "outputs": [],
   "source": [
    "# Read in data from 2016\n",
    "election_2016 = json.load(open('data/2016_election.json'))"
   ]
  },
  {
   "cell_type": "code",
   "execution_count": 17,
   "metadata": {
    "scrolled": false
   },
   "outputs": [
    {
     "data": {
      "text/plain": [
       "{'contests': {'presidential': {'winners': 1,\n",
       "   'candidates': ['Clinton', 'Trump'],\n",
       "   'results': [729547, 1318255],\n",
       "   'ballots_cast': 2123372,\n",
       "   'state_id': 1,\n",
       "   'margin': -0.2874828718792149}}}"
      ]
     },
     "execution_count": 17,
     "metadata": {},
     "output_type": "execute_result"
    }
   ],
   "source": [
    "election_2016['Alabama']"
   ]
  },
  {
   "cell_type": "code",
   "execution_count": 18,
   "metadata": {},
   "outputs": [],
   "source": [
    "def sample_state(state):\n",
    "    \"Return sample information for given state from 2016\"\n",
    "\n",
    "    election = election_2016[state]\n",
    "    candidates = election['contests']['presidential']['candidates']\n",
    "    results = election['contests']['presidential']['results']\n",
    "    ballots_cast = election['contests']['presidential']['ballots_cast']\n",
    "    athena_sample = sample90v(results[0], results[1], ballots_cast)\n",
    "    return athena_sample"
   ]
  },
  {
   "cell_type": "code",
   "execution_count": 19,
   "metadata": {},
   "outputs": [],
   "source": [
    "states = ['Alabama', 'Maryland', 'New York', 'Rhode Island', 'New Jersey', 'Ohio', 'Virginia',\n",
    "          'Georgia', 'North Carolina', 'Arizona', 'Nevada' ]\n",
    "# skip 'Minnesota', 'Florida', 'Wisconsin', 'Pennsylvania', 'Michigan']"
   ]
  },
  {
   "cell_type": "code",
   "execution_count": null,
   "metadata": {},
   "outputs": [],
   "source": [
    "athena_results = {}\n",
    "with redirect_output(\"debug_output.txt\"):\n",
    "  for state in states:\n",
    "    athena_results[state] = sample_state(state)"
   ]
  },
  {
   "cell_type": "code",
   "execution_count": null,
   "metadata": {},
   "outputs": [],
   "source": [
    "{s: r[0]  for s, r in athena_results.items()}"
   ]
  },
  {
   "cell_type": "markdown",
   "metadata": {},
   "source": [
    "Why are these numbers all one less than those given in the recent diagram?"
   ]
  },
  {
   "cell_type": "markdown",
   "metadata": {},
   "source": [
    "# Misc snippets of code"
   ]
  },
  {
   "cell_type": "code",
   "execution_count": null,
   "metadata": {},
   "outputs": [],
   "source": [
    "with redirect_output(\"my_output.txt\"):\n",
    "    x = sample_state('Alabama')"
   ]
  },
  {
   "cell_type": "code",
   "execution_count": null,
   "metadata": {
    "scrolled": true
   },
   "outputs": [],
   "source": [
    "x"
   ]
  },
  {
   "cell_type": "code",
   "execution_count": null,
   "metadata": {},
   "outputs": [],
   "source": [
    "e3 = find_next_round_size(audit_type, alpha, delta, [\"A\", \"B\", \"C\"], [600, 300, 100], ballots_cast, winners, name, model, pstop_goal, round_schedule)"
   ]
  },
  {
   "cell_type": "code",
   "execution_count": null,
   "metadata": {},
   "outputs": [],
   "source": [
    "e3"
   ]
  },
  {
   "cell_type": "code",
   "execution_count": null,
   "metadata": {},
   "outputs": [],
   "source": [
    "# Earlier numbers\n",
    "x = find_next_round_size(audit_type, alpha, delta, candidates, results, ballots_cast, winners, name, model, pstop_goal, round_schedule)"
   ]
  },
  {
   "cell_type": "code",
   "execution_count": null,
   "metadata": {
    "scrolled": true
   },
   "outputs": [],
   "source": [
    "x"
   ]
  },
  {
   "cell_type": "code",
   "execution_count": null,
   "metadata": {},
   "outputs": [],
   "source": [
    "election = {\n",
    "    \"alpha\": alpha,\n",
    "    \"delta\": delta,\n",
    "    \"candidates\": candidates,\n",
    "    \"results\": results,\n",
    "    \"ballots_cast\": ballots_cast,\n",
    "    \"winners\": winners,\n",
    "    \"name\": name,\n",
    "    \"model\": model,\n",
    "    \"pstop\": pstop_goal,\n",
    "    \"round_schedule\": round_schedule,\n",
    "    }"
   ]
  },
  {
   "cell_type": "code",
   "execution_count": null,
   "metadata": {},
   "outputs": [],
   "source": [
    "e3 = {\n",
    "    \"alpha\": alpha,\n",
    "    \"delta\": delta,\n",
    "    \"candidates\": ['A', 'B', 'C'],\n",
    "    \"results\": results,\n",
    "    \"ballots_cast\": ballots_cast,\n",
    "    \"winners\": winners,\n",
    "    \"name\": name,\n",
    "    \"model\": model,\n",
    "    \"pstop\": pstop_goal,\n",
    "    \"round_schedule\": round_schedule,\n",
    "    }"
   ]
  }
 ],
 "metadata": {
  "kernelspec": {
   "display_name": "Python 3",
   "language": "python",
   "name": "python3"
  },
  "language_info": {
   "codemirror_mode": {
    "name": "ipython",
    "version": 3
   },
   "file_extension": ".py",
   "mimetype": "text/x-python",
   "name": "python",
   "nbconvert_exporter": "python",
   "pygments_lexer": "ipython3",
   "version": "3.7.4"
  },
  "toc": {
   "colors": {
    "hover_highlight": "#DAA520",
    "running_highlight": "#FF0000",
    "selected_highlight": "#FFD700"
   },
   "moveMenuLeft": true,
   "nav_menu": {
    "height": "117px",
    "width": "252px"
   },
   "navigate_menu": true,
   "number_sections": true,
   "sideBar": true,
   "threshold": 4,
   "toc_cell": false,
   "toc_section_display": "block",
   "toc_window_display": false,
   "widenNotebook": false
  }
 },
 "nbformat": 4,
 "nbformat_minor": 2
}
